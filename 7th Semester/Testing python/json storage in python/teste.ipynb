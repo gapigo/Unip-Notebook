{
 "cells": [
  {
   "cell_type": "code",
   "execution_count": 2,
   "metadata": {},
   "outputs": [
    {
     "name": "stdout",
     "output_type": "stream",
     "text": [
      "{'clientes': {'ricardon': '1234', 'guardion': '2469'}, 'produtos': {'abacate': 'no teo cool'}, 'vendas': {'abril': 'muitas vendas', 'maio': 'falimos'}}\n"
     ]
    }
   ],
   "source": [
    "import json\n",
    "with open('database.json') as f:\n",
    "   data = json.load(f)\n",
    "   print(data)"
   ]
  }
 ],
 "metadata": {
  "kernelspec": {
   "display_name": "Python 3",
   "language": "python",
   "name": "python3"
  },
  "language_info": {
   "codemirror_mode": {
    "name": "ipython",
    "version": 3
   },
   "file_extension": ".py",
   "mimetype": "text/x-python",
   "name": "python",
   "nbconvert_exporter": "python",
   "pygments_lexer": "ipython3",
   "version": "3.9.13"
  },
  "orig_nbformat": 4
 },
 "nbformat": 4,
 "nbformat_minor": 2
}
