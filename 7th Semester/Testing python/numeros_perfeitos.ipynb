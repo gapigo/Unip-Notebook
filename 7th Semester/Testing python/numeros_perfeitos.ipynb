{
 "cells": [
  {
   "cell_type": "code",
   "execution_count": 12,
   "metadata": {},
   "outputs": [
    {
     "name": "stdout",
     "output_type": "stream",
     "text": [
      "497 não é perfeito\n"
     ]
    }
   ],
   "source": [
    "num = int(input('Informe um número: '))\n",
    "divisores = [x for x in range (1, num//2 + 1) if num % x == 0]\n",
    "if sum(divisores) == num: print (num, 'é um número perfeito!')\n",
    "else: print(num, 'não é perfeito')\n"
   ]
  },
  {
   "cell_type": "code",
   "execution_count": 8,
   "metadata": {},
   "outputs": [
    {
     "name": "stdout",
     "output_type": "stream",
     "text": [
      "range(1, 15)\n",
      "[1, 2, 3, 4, 5, 6, 7, 8, 9, 10, 11, 12, 13, 14]\n"
     ]
    }
   ],
   "source": [
    "num = 28\n",
    "print(range (1, num//2 + 1))\n",
    "print([*range (1, num//2 + 1)])"
   ]
  }
 ],
 "metadata": {
  "kernelspec": {
   "display_name": "base",
   "language": "python",
   "name": "python3"
  },
  "language_info": {
   "codemirror_mode": {
    "name": "ipython",
    "version": 3
   },
   "file_extension": ".py",
   "mimetype": "text/x-python",
   "name": "python",
   "nbconvert_exporter": "python",
   "pygments_lexer": "ipython3",
   "version": "3.9.13"
  },
  "orig_nbformat": 4
 },
 "nbformat": 4,
 "nbformat_minor": 2
}
